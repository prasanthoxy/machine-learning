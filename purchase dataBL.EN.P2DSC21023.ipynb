{
 "cells": [
  {
   "cell_type": "code",
   "execution_count": 1,
   "id": "ca9b2bcd",
   "metadata": {},
   "outputs": [
    {
     "data": {
      "text/html": [
       "<div>\n",
       "<style scoped>\n",
       "    .dataframe tbody tr th:only-of-type {\n",
       "        vertical-align: middle;\n",
       "    }\n",
       "\n",
       "    .dataframe tbody tr th {\n",
       "        vertical-align: top;\n",
       "    }\n",
       "\n",
       "    .dataframe thead th {\n",
       "        text-align: right;\n",
       "    }\n",
       "</style>\n",
       "<table border=\"1\" class=\"dataframe\">\n",
       "  <thead>\n",
       "    <tr style=\"text-align: right;\">\n",
       "      <th></th>\n",
       "      <th>Candies (#)</th>\n",
       "      <th>Mangoes (Kg)</th>\n",
       "      <th>Milk Packets (#)</th>\n",
       "      <th>Payment (Rs)</th>\n",
       "    </tr>\n",
       "    <tr>\n",
       "      <th>Customer</th>\n",
       "      <th></th>\n",
       "      <th></th>\n",
       "      <th></th>\n",
       "      <th></th>\n",
       "    </tr>\n",
       "  </thead>\n",
       "  <tbody>\n",
       "    <tr>\n",
       "      <th>C_1</th>\n",
       "      <td>20</td>\n",
       "      <td>6</td>\n",
       "      <td>2</td>\n",
       "      <td>386</td>\n",
       "    </tr>\n",
       "    <tr>\n",
       "      <th>C_2</th>\n",
       "      <td>16</td>\n",
       "      <td>3</td>\n",
       "      <td>6</td>\n",
       "      <td>289</td>\n",
       "    </tr>\n",
       "    <tr>\n",
       "      <th>C_3</th>\n",
       "      <td>27</td>\n",
       "      <td>6</td>\n",
       "      <td>2</td>\n",
       "      <td>393</td>\n",
       "    </tr>\n",
       "    <tr>\n",
       "      <th>C_4</th>\n",
       "      <td>19</td>\n",
       "      <td>1</td>\n",
       "      <td>2</td>\n",
       "      <td>110</td>\n",
       "    </tr>\n",
       "    <tr>\n",
       "      <th>C_5</th>\n",
       "      <td>24</td>\n",
       "      <td>4</td>\n",
       "      <td>2</td>\n",
       "      <td>280</td>\n",
       "    </tr>\n",
       "    <tr>\n",
       "      <th>C_6</th>\n",
       "      <td>22</td>\n",
       "      <td>1</td>\n",
       "      <td>5</td>\n",
       "      <td>167</td>\n",
       "    </tr>\n",
       "    <tr>\n",
       "      <th>C_7</th>\n",
       "      <td>15</td>\n",
       "      <td>4</td>\n",
       "      <td>2</td>\n",
       "      <td>271</td>\n",
       "    </tr>\n",
       "    <tr>\n",
       "      <th>C_8</th>\n",
       "      <td>18</td>\n",
       "      <td>4</td>\n",
       "      <td>2</td>\n",
       "      <td>274</td>\n",
       "    </tr>\n",
       "    <tr>\n",
       "      <th>C_9</th>\n",
       "      <td>21</td>\n",
       "      <td>1</td>\n",
       "      <td>4</td>\n",
       "      <td>148</td>\n",
       "    </tr>\n",
       "    <tr>\n",
       "      <th>C_10</th>\n",
       "      <td>16</td>\n",
       "      <td>2</td>\n",
       "      <td>4</td>\n",
       "      <td>198</td>\n",
       "    </tr>\n",
       "  </tbody>\n",
       "</table>\n",
       "</div>"
      ],
      "text/plain": [
       "          Candies (#)  Mangoes (Kg)  Milk Packets (#)  Payment (Rs)\n",
       "Customer                                                           \n",
       "C_1                20             6                 2           386\n",
       "C_2                16             3                 6           289\n",
       "C_3                27             6                 2           393\n",
       "C_4                19             1                 2           110\n",
       "C_5                24             4                 2           280\n",
       "C_6                22             1                 5           167\n",
       "C_7                15             4                 2           271\n",
       "C_8                18             4                 2           274\n",
       "C_9                21             1                 4           148\n",
       "C_10               16             2                 4           198"
      ]
     },
     "execution_count": 1,
     "metadata": {},
     "output_type": "execute_result"
    }
   ],
   "source": [
    "# importing data from excel to python\n",
    "import numpy as np\n",
    "import pandas as pd\n",
    "vector_space = pd.read_excel(\"LabSession1.xlsx\", sheet_name = \"Sheet2\", index_col=0)\n",
    "vector_space\n"
   ]
  },
  {
   "cell_type": "code",
   "execution_count": 2,
   "id": "0acae4e8",
   "metadata": {},
   "outputs": [
    {
     "name": "stdout",
     "output_type": "stream",
     "text": [
      "(10, 4)\n"
     ]
    }
   ],
   "source": [
    "#finding row by column\n",
    "dimensions = vector_space.shape\n",
    "print(dimensions)"
   ]
  },
  {
   "cell_type": "code",
   "execution_count": 3,
   "id": "129097f7",
   "metadata": {},
   "outputs": [
    {
     "data": {
      "text/plain": [
       "array([[20,  6,  2],\n",
       "       [16,  3,  6],\n",
       "       [27,  6,  2],\n",
       "       [19,  1,  2],\n",
       "       [24,  4,  2],\n",
       "       [22,  1,  5],\n",
       "       [15,  4,  2],\n",
       "       [18,  4,  2],\n",
       "       [21,  1,  4],\n",
       "       [16,  2,  4]])"
      ]
     },
     "execution_count": 3,
     "metadata": {},
     "output_type": "execute_result"
    }
   ],
   "source": [
    "A = np.array([[20,6,2],[16,3,6],[27,6,2],[19,1,2],[24,4,2],[22,1,5],[15,4,2],[18,4,2],[21,1,4],[16,2,4]])\n",
    "A"
   ]
  },
  {
   "cell_type": "code",
   "execution_count": 4,
   "id": "1dd29705",
   "metadata": {},
   "outputs": [
    {
     "data": {
      "text/plain": [
       "array([['a'],\n",
       "       ['b'],\n",
       "       ['c']], dtype='<U1')"
      ]
     },
     "execution_count": 4,
     "metadata": {},
     "output_type": "execute_result"
    }
   ],
   "source": [
    "X = np.array([['a'],['b'],['c']])\n",
    "X"
   ]
  },
  {
   "cell_type": "code",
   "execution_count": 5,
   "id": "6cd85c5c",
   "metadata": {},
   "outputs": [
    {
     "data": {
      "text/plain": [
       "array([[386],\n",
       "       [289],\n",
       "       [393],\n",
       "       [110],\n",
       "       [280],\n",
       "       [167],\n",
       "       [271],\n",
       "       [274],\n",
       "       [148],\n",
       "       [198]])"
      ]
     },
     "execution_count": 5,
     "metadata": {},
     "output_type": "execute_result"
    }
   ],
   "source": [
    "C = np.array([[386],[289],[393],[110],[280],[167],[271],[274],[148],[198]])\n",
    "C"
   ]
  },
  {
   "cell_type": "code",
   "execution_count": 6,
   "id": "51d1968a",
   "metadata": {},
   "outputs": [
    {
     "name": "stdout",
     "output_type": "stream",
     "text": [
      "Matrix :  [[20  6  2]\n",
      " [16  3  6]\n",
      " [27  6  2]\n",
      " [19  1  2]\n",
      " [24  4  2]\n",
      " [22  1  5]\n",
      " [15  4  2]\n",
      " [18  4  2]\n",
      " [21  1  4]\n",
      " [16  2  4]]\n",
      "Rank of the given Matrix :  3\n"
     ]
    }
   ],
   "source": [
    "#finding rank of a matrix\n",
    "rank = np.linalg.matrix_rank(A)\n",
    "\n",
    "print('Matrix : ', A)\n",
    "print('Rank of the given Matrix : ',rank)"
   ]
  },
  {
   "cell_type": "code",
   "execution_count": 7,
   "id": "895f0033",
   "metadata": {},
   "outputs": [
    {
     "name": "stdout",
     "output_type": "stream",
     "text": [
      "[[-0.01008596 -0.03124505  0.01013951  0.0290728   0.0182907   0.01161794\n",
      "  -0.00771348  0.00095458  0.01743623 -0.00542016]\n",
      " [ 0.09059668  0.07263726  0.03172933 -0.09071908 -0.01893196 -0.06926996\n",
      "   0.05675464  0.03152577 -0.07641966  0.00357352]\n",
      " [ 0.00299878  0.15874243 -0.05795468 -0.06609024 -0.06295043  0.03348017\n",
      "   0.01541831 -0.01070461  0.00029003  0.05938755]]\n"
     ]
    }
   ],
   "source": [
    "p = np.linalg.pinv(A) #pseudo inverse formula A+ = (A'A)-1A'\n",
    "print(p)"
   ]
  }
 ],
 "metadata": {
  "kernelspec": {
   "display_name": "Python 3",
   "language": "python",
   "name": "python3"
  },
  "language_info": {
   "codemirror_mode": {
    "name": "ipython",
    "version": 3
   },
   "file_extension": ".py",
   "mimetype": "text/x-python",
   "name": "python",
   "nbconvert_exporter": "python",
   "pygments_lexer": "ipython3",
   "version": "3.8.10"
  }
 },
 "nbformat": 4,
 "nbformat_minor": 5
}
